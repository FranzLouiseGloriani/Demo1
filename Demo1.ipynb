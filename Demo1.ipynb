{
  "nbformat": 4,
  "nbformat_minor": 0,
  "metadata": {
    "colab": {
      "name": "Demo1.ipynb",
      "provenance": [],
      "collapsed_sections": [],
      "authorship_tag": "ABX9TyNROxJhlTqDpHgV0yCCFSQn",
      "include_colab_link": true
    },
    "kernelspec": {
      "name": "python3",
      "display_name": "Python 3"
    },
    "language_info": {
      "name": "python"
    }
  },
  "cells": [
    {
      "cell_type": "markdown",
      "metadata": {
        "id": "view-in-github",
        "colab_type": "text"
      },
      "source": [
        "<a href=\"https://colab.research.google.com/github/FranzLouiseGloriani/Demo_1/blob/main/Demo1.ipynb\" target=\"_parent\"><img src=\"https://colab.research.google.com/assets/colab-badge.svg\" alt=\"Open In Colab\"/></a>"
      ]
    },
    {
      "cell_type": "markdown",
      "metadata": {
        "id": "YUVhtrOkX7uu"
      },
      "source": [
        "#Introduction to Python Programming"
      ]
    },
    {
      "cell_type": "code",
      "metadata": {
        "colab": {
          "base_uri": "https://localhost:8080/"
        },
        "id": "tuGj6zHSX3ej",
        "outputId": "999c6247-a65b-4021-d8b0-3eb1389c32c2"
      },
      "source": [
        "#This is a program to print string hehe\n",
        "a = \"Franz\"\n",
        "print(a)"
      ],
      "execution_count": 6,
      "outputs": [
        {
          "output_type": "stream",
          "name": "stdout",
          "text": [
            "Franz\n"
          ]
        }
      ]
    },
    {
      "cell_type": "code",
      "metadata": {
        "colab": {
          "base_uri": "https://localhost:8080/"
        },
        "id": "1DEoeiHWaIFp",
        "outputId": "2dc3faff-f5bb-403c-be96-088d50b8e1f3"
      },
      "source": [
        "#This is a program to differ a to A and a to a1 hehe\n",
        "\n",
        "a = \"Franz\"\n",
        "A = \"Louise\"\n",
        "b = \"Belostrino\"\n",
        "B = \"Gloriani\"\n",
        "print(a)\n",
        "print(A)\n",
        "print(b)\n",
        "print(B)\n",
        "\n",
        "a = \"Franz\"\n",
        "a1 = \"Louise\"\n",
        "b = \"Belostrino\"\n",
        "b1 = \"Gloriani\"\n",
        "print(a)\n",
        "print(a1)\n",
        "print(b)\n",
        "print(b1)"
      ],
      "execution_count": 22,
      "outputs": [
        {
          "output_type": "stream",
          "name": "stdout",
          "text": [
            "Franz\n",
            "Louise\n",
            "Belostrino\n",
            "Gloriani\n",
            "Franz\n",
            "Louise\n",
            "Belostrino\n",
            "Gloriani\n"
          ]
        }
      ]
    },
    {
      "cell_type": "code",
      "metadata": {
        "colab": {
          "base_uri": "https://localhost:8080/"
        },
        "id": "EFqy7uAqYcAu",
        "outputId": "8bd71a5a-4d2e-49eb-9835-174b88c7622e"
      },
      "source": [
        "#This is a program to print integer hehe\n",
        "a, b, c = 0, 1, 2\n",
        "print(a)\n",
        "print(b)\n",
        "print(c)"
      ],
      "execution_count": 8,
      "outputs": [
        {
          "output_type": "stream",
          "name": "stdout",
          "text": [
            "0\n",
            "1\n",
            "2\n"
          ]
        }
      ]
    },
    {
      "cell_type": "code",
      "metadata": {
        "colab": {
          "base_uri": "https://localhost:8080/"
        },
        "id": "lA3u4g-MY-mv",
        "outputId": "a4d436e2-e8bc-4ae2-d290-6a2534a7a7f7"
      },
      "source": [
        "#This is a program to print types of integer hehe\n",
        "a = int(8)\n",
        "print(a)\n",
        "\n",
        "b = float(8)\n",
        "print(b)\n",
        "\n",
        "c = float(8.0000)\n",
        "print(c)\n",
        "\n",
        "d = float(8.0123)\n",
        "print(d)\n",
        "\n",
        "e = float(8.01234567)\n",
        "print(e)"
      ],
      "execution_count": 25,
      "outputs": [
        {
          "output_type": "stream",
          "name": "stdout",
          "text": [
            "8\n",
            "8.0\n",
            "8.0\n",
            "8.0123\n",
            "8.01234567\n"
          ]
        }
      ]
    },
    {
      "cell_type": "code",
      "metadata": {
        "colab": {
          "base_uri": "https://localhost:8080/"
        },
        "id": "9zyYt0XaZYt1",
        "outputId": "ef58feaf-1801-4dcf-ea30-e0ab70b38688"
      },
      "source": [
        "#This is a program to print the type of the variable hehe\n",
        "a = \"Franz\"\n",
        "print(type(a))\n",
        "b = 0\n",
        "print(type(b))\n",
        "c = float(0)\n",
        "print(type(c))\n",
        "d = 0\n",
        "print(type(float(0)))"
      ],
      "execution_count": 17,
      "outputs": [
        {
          "output_type": "stream",
          "name": "stdout",
          "text": [
            "<class 'str'>\n",
            "<class 'int'>\n",
            "<class 'float'>\n",
            "<class 'float'>\n"
          ]
        }
      ]
    },
    {
      "cell_type": "markdown",
      "metadata": {
        "id": "yxmFpyS7bMZ0"
      },
      "source": [
        "One Value to Multiple Variables\n"
      ]
    },
    {
      "cell_type": "code",
      "metadata": {
        "colab": {
          "base_uri": "https://localhost:8080/"
        },
        "id": "913H_6B-bP8R",
        "outputId": "db1ae7c0-48a9-4019-a653-92b181fcec98"
      },
      "source": [
        "x = y = z = \"Franz\"\n",
        "print(x)\n",
        "print(y)\n",
        "print(z)"
      ],
      "execution_count": 24,
      "outputs": [
        {
          "output_type": "stream",
          "name": "stdout",
          "text": [
            "Franz\n",
            "Franz\n",
            "Franz\n"
          ]
        }
      ]
    },
    {
      "cell_type": "code",
      "metadata": {
        "colab": {
          "base_uri": "https://localhost:8080/"
        },
        "id": "LDJoDEDMblYL",
        "outputId": "efbff8ee-0e37-42a0-c2e8-9d538f5d7466"
      },
      "source": [
        "x = \"Fun\"\n",
        "print('Python programming is' + x)        #Comma\n",
        "print('Python programming is' + ' ' + x) \n",
        "print(\"Python programming is\" + x)        #Double Comma\n",
        "print(\"Python programming is\" + \" \" + x)"
      ],
      "execution_count": 31,
      "outputs": [
        {
          "output_type": "stream",
          "name": "stdout",
          "text": [
            "Python programming isFun\n",
            "Python programming is Fun\n",
            "Python programming isFun\n",
            "Python programming is Fun\n"
          ]
        }
      ]
    },
    {
      "cell_type": "code",
      "metadata": {
        "colab": {
          "base_uri": "https://localhost:8080/"
        },
        "id": "3iNIfExRceTR",
        "outputId": "d79efb14-0b9e-4466-aeef-25be643efb28"
      },
      "source": [
        "x = 5\n",
        "y = 10\n",
        "print(x+y) #Addition\n",
        "print(x-y) #Subtraction\n",
        "print(x*y) #Multiplication\n",
        "print(x/y) #Division\n",
        "\n",
        "#This is an example of program using logical operator\n",
        "x<y and x==x #If one is true, it will result true\n",
        "x>y and x==x #Both are False"
      ],
      "execution_count": 41,
      "outputs": [
        {
          "output_type": "stream",
          "name": "stdout",
          "text": [
            "15\n",
            "-5\n",
            "50\n",
            "0.5\n"
          ]
        },
        {
          "output_type": "execute_result",
          "data": {
            "text/plain": [
              "False"
            ]
          },
          "metadata": {},
          "execution_count": 41
        }
      ]
    },
    {
      "cell_type": "code",
      "metadata": {
        "id": "hoBz38xCc1d3"
      },
      "source": [
        ""
      ],
      "execution_count": null,
      "outputs": []
    }
  ]
}